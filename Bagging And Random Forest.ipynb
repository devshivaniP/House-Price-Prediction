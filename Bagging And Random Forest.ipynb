{
 "cells": [
  {
   "cell_type": "code",
   "execution_count": 1,
   "metadata": {},
   "outputs": [],
   "source": [
    "import pandas as pd\n",
    "import numpy as np\n",
    "import matplotlib.pyplot as plt\n",
    "plt.style.use(\"dark_background\")"
   ]
  },
  {
   "cell_type": "code",
   "execution_count": 4,
   "metadata": {},
   "outputs": [
    {
     "name": "stdout",
     "output_type": "stream",
     "text": [
      "<class 'pandas.core.frame.DataFrame'>\n",
      "RangeIndex: 22067 entries, 0 to 22066\n",
      "Data columns (total 21 columns):\n",
      " #   Column                          Non-Null Count  Dtype  \n",
      "---  ------                          --------------  -----  \n",
      " 0   customer_id                     22067 non-null  int64  \n",
      " 1   vintage                         22067 non-null  int64  \n",
      " 2   age                             22067 non-null  int64  \n",
      " 3   gender                          22067 non-null  int64  \n",
      " 4   dependents                      22067 non-null  float64\n",
      " 5   occupation                      22067 non-null  int64  \n",
      " 6   city                            22067 non-null  float64\n",
      " 7   customer_nw_category            22067 non-null  int64  \n",
      " 8   branch_code                     22067 non-null  int64  \n",
      " 9   days_since_last_transaction     22067 non-null  float64\n",
      " 10  current_balance                 22067 non-null  float64\n",
      " 11  previous_month_end_balance      22067 non-null  float64\n",
      " 12  average_monthly_balance_prevQ   22067 non-null  float64\n",
      " 13  average_monthly_balance_prevQ2  22067 non-null  float64\n",
      " 14  current_month_credit            22067 non-null  float64\n",
      " 15  previous_month_credit           22067 non-null  float64\n",
      " 16  current_month_debit             22067 non-null  float64\n",
      " 17  previous_month_debit            22067 non-null  float64\n",
      " 18  current_month_balance           22067 non-null  float64\n",
      " 19  previous_month_balance          22067 non-null  float64\n",
      " 20  churn                           22067 non-null  int64  \n",
      "dtypes: float64(13), int64(8)\n",
      "memory usage: 3.5 MB\n"
     ]
    }
   ],
   "source": [
    "data = pd.read_csv('churn_prediction_simple.csv')\n",
    "data.info()"
   ]
  },
  {
   "cell_type": "code",
   "execution_count": 8,
   "metadata": {},
   "outputs": [],
   "source": [
    "# separating dependent and independent variable\n",
    "X = data.drop(columns = ['churn','customer_id'])\n",
    "Y = data['churn']"
   ]
  },
  {
   "cell_type": "code",
   "execution_count": 9,
   "metadata": {},
   "outputs": [],
   "source": [
    "#scaling the data\n",
    "from sklearn.preprocessing import StandardScaler\n",
    "scaler = StandardScaler()\n",
    "scaled_x = scaler.fit_transform(X)"
   ]
  },
  {
   "cell_type": "code",
   "execution_count": 11,
   "metadata": {},
   "outputs": [
    {
     "data": {
      "text/plain": [
       "((17653, 19), (4414, 19), (17653,), (4414,))"
      ]
     },
     "execution_count": 11,
     "metadata": {},
     "output_type": "execute_result"
    }
   ],
   "source": [
    "#splitting the dataset\n",
    "from sklearn.model_selection import train_test_split as tts\n",
    "x_train,x_test,y_train,y_test= tts(scaled_x,Y,train_size = 0.80, stratify = Y, random_state = 101)\n",
    "x_train.shape, x_test.shape, y_train.shape, y_test.shape"
   ]
  },
  {
   "cell_type": "markdown",
   "metadata": {},
   "source": [
    "# Model Building, Bagging Logisyic Regression"
   ]
  },
  {
   "cell_type": "code",
   "execution_count": 12,
   "metadata": {},
   "outputs": [
    {
     "data": {
      "text/plain": [
       "BaggingClassifier()"
      ]
     },
     "execution_count": 12,
     "metadata": {},
     "output_type": "execute_result"
    }
   ],
   "source": [
    "from sklearn.ensemble import BaggingClassifier as BC\n",
    "classifier = BC()\n",
    "classifier.fit(x_train, y_train)"
   ]
  },
  {
   "cell_type": "code",
   "execution_count": 14,
   "metadata": {},
   "outputs": [],
   "source": [
    "from sklearn.linear_model import LogisticRegression as LR\n",
    "\n",
    "classifier = BC(base_estimator = LR(),\n",
    "               n_estimators = 150,\n",
    "               n_jobs = -1,\n",
    "               random_state = 42)\n",
    "classifier.fit(x_train,y_train)\n",
    "predicted_values = classifier.predict(x_train)"
   ]
  },
  {
   "cell_type": "code",
   "execution_count": 19,
   "metadata": {},
   "outputs": [
    {
     "name": "stdout",
     "output_type": "stream",
     "text": [
      "              precision    recall  f1-score   support\n",
      "\n",
      "           0       0.82      0.99      0.90     14234\n",
      "           1       0.75      0.08      0.15      3419\n",
      "\n",
      "    accuracy                           0.82     17653\n",
      "   macro avg       0.78      0.54      0.52     17653\n",
      "weighted avg       0.80      0.82      0.75     17653\n",
      "\n"
     ]
    }
   ],
   "source": [
    "from sklearn.metrics import classification_report\n",
    "print(classification_report(y_train, predicted_values))"
   ]
  },
  {
   "cell_type": "code",
   "execution_count": 20,
   "metadata": {},
   "outputs": [
    {
     "name": "stdout",
     "output_type": "stream",
     "text": [
      "              precision    recall  f1-score   support\n",
      "\n",
      "           0       0.88      0.95      0.92      3559\n",
      "           1       0.71      0.46      0.56       855\n",
      "\n",
      "    accuracy                           0.86      4414\n",
      "   macro avg       0.79      0.71      0.74      4414\n",
      "weighted avg       0.85      0.86      0.85      4414\n",
      "\n"
     ]
    }
   ],
   "source": [
    "predicted_values = classifier.predict(x_test)\n",
    "print(classification_report(y_test,predicted_values))"
   ]
  },
  {
   "cell_type": "code",
   "execution_count": 23,
   "metadata": {},
   "outputs": [],
   "source": [
    "from sklearn.ensemble import RandomForestClassifier as RFC\n",
    "classifier= RFC()"
   ]
  },
  {
   "cell_type": "code",
   "execution_count": 24,
   "metadata": {},
   "outputs": [
    {
     "data": {
      "text/plain": [
       "RandomForestClassifier()"
      ]
     },
     "execution_count": 24,
     "metadata": {},
     "output_type": "execute_result"
    }
   ],
   "source": [
    "classifier.fit(x_train, y_train)"
   ]
  },
  {
   "cell_type": "code",
   "execution_count": 29,
   "metadata": {},
   "outputs": [],
   "source": [
    "from sklearn.linear_model import LogisticRegression as LR\n",
    "\n",
    "classifier = RFC(\n",
    "               n_estimators = 100,\n",
    "               n_jobs = None,\n",
    "               random_state = None)\n",
    "classifier.fit(x_train,y_train)\n",
    "predicted_values = classifier.predict(x_train)"
   ]
  },
  {
   "cell_type": "code",
   "execution_count": 30,
   "metadata": {},
   "outputs": [
    {
     "name": "stdout",
     "output_type": "stream",
     "text": [
      "              precision    recall  f1-score   support\n",
      "\n",
      "           0       1.00      1.00      1.00     14234\n",
      "           1       1.00      1.00      1.00      3419\n",
      "\n",
      "    accuracy                           1.00     17653\n",
      "   macro avg       1.00      1.00      1.00     17653\n",
      "weighted avg       1.00      1.00      1.00     17653\n",
      "\n"
     ]
    }
   ],
   "source": [
    "from sklearn.metrics import classification_report\n",
    "print(classification_report(y_train, predicted_values))"
   ]
  },
  {
   "cell_type": "code",
   "execution_count": 31,
   "metadata": {},
   "outputs": [
    {
     "name": "stdout",
     "output_type": "stream",
     "text": [
      "              precision    recall  f1-score   support\n",
      "\n",
      "           0       0.88      0.96      0.92      3559\n",
      "           1       0.72      0.45      0.55       855\n",
      "\n",
      "    accuracy                           0.86      4414\n",
      "   macro avg       0.80      0.70      0.74      4414\n",
      "weighted avg       0.85      0.86      0.85      4414\n",
      "\n"
     ]
    }
   ],
   "source": [
    "predicted_values = classifier.predict(x_test)\n",
    "print(classification_report(y_test, predicted_values))"
   ]
  },
  {
   "cell_type": "code",
   "execution_count": 32,
   "metadata": {},
   "outputs": [],
   "source": [
    "from sklearn.metrics import f1_score\n",
    "def calc_score(model, x1, y1, x2, y2):\n",
    "    '''x1, y1: training set\n",
    "    x2,y2: test set'''\n",
    "    \n",
    "    model.fit(x1,y1)\n",
    "    predict = model.predict(x1)\n",
    "    f1 = f1_score(y1,predict)\n",
    "    \n",
    "    predict = model.predict(x2)\n",
    "    f2 = f1_score(y2,predict)\n",
    "    \n",
    "    return f1, f2"
   ]
  },
  {
   "cell_type": "code",
   "execution_count": 33,
   "metadata": {},
   "outputs": [],
   "source": [
    "def effect(train_score, test_score, x_axis, title):\n",
    "    '''train_score: The list of scores when predictions are made on the training set\n",
    "    test_score: The list of scores when predictions are made on test set\n",
    "    x_axis: The list of parameter values which were used to generate the respective f1 scores which are on the x axis\n",
    "    title: title of the plot'''\n",
    "    plt. figure(figsize = (5,5), dpi = 120)\n",
    "    plt.plot(x_axis, train_score, color = 'red', label = 'train_score')\n",
    "    plt.plot(x_axis, test_score, color = 'blue', label = 'test_score')\n",
    "    plt.title(title)\n",
    "    plt.legend()\n",
    "    plt.xlabel('parameter_value')\n",
    "    plt.ylabel('f1_score')\n",
    "    plt.show()"
   ]
  },
  {
   "cell_type": "markdown",
   "metadata": {},
   "source": [
    "# Hyperparameter Tuning"
   ]
  },
  {
   "cell_type": "code",
   "execution_count": 34,
   "metadata": {},
   "outputs": [
    {
     "data": {
      "text/plain": [
       "RandomForestClassifier()"
      ]
     },
     "execution_count": 34,
     "metadata": {},
     "output_type": "execute_result"
    }
   ],
   "source": [
    "classifier = RFC()\n",
    "classifier.fit(x_train, y_train)"
   ]
  },
  {
   "cell_type": "code",
   "execution_count": null,
   "metadata": {},
   "outputs": [],
   "source": [
    "estimators = [i for i in range(1,600,10)]\n",
    "train = []\n",
    "test = []\n",
    "\n",
    "for i in estimators: \n",
    "    model = RFC(class_weight = 'balanced_subsample',\n",
    "               n_estimators = i,\n",
    "               n_jobs = -1,\n",
    "               max_depth = 7,\n",
    "               random_state = 101)\n",
    "    f1, f2 = calc_score(model, x_train, y_train, x_test, y_test)\n",
    "    train.append(f1)\n",
    "    test.append(f2)"
   ]
  },
  {
   "cell_type": "code",
   "execution_count": null,
   "metadata": {},
   "outputs": [],
   "source": [
    "effect(train, test, range(1,600, 10), 'n_estimators')"
   ]
  }
 ],
 "metadata": {
  "kernelspec": {
   "display_name": "Python 3 (ipykernel)",
   "language": "python",
   "name": "python3"
  },
  "language_info": {
   "codemirror_mode": {
    "name": "ipython",
    "version": 3
   },
   "file_extension": ".py",
   "mimetype": "text/x-python",
   "name": "python",
   "nbconvert_exporter": "python",
   "pygments_lexer": "ipython3",
   "version": "3.11.7"
  }
 },
 "nbformat": 4,
 "nbformat_minor": 4
}
