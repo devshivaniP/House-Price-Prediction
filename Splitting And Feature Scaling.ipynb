{
 "cells": [
  {
   "cell_type": "code",
   "execution_count": 6,
   "metadata": {},
   "outputs": [],
   "source": [
    "import pandas as pd\n",
    "import numpy as np\n",
    "import matplotlib.pyplot as plt"
   ]
  },
  {
   "cell_type": "code",
   "execution_count": 7,
   "metadata": {},
   "outputs": [],
   "source": [
    "Transformed_Housing_Data_2 = pd.read_csv(\"Transformed_Housing_Data2.csv\")"
   ]
  },
  {
   "cell_type": "code",
   "execution_count": 8,
   "metadata": {},
   "outputs": [],
   "source": [
    "Y = Transformed_Housing_Data_2.iloc[:,0]\n",
    "X = Transformed_Housing_Data_2.iloc[:,1:31]"
   ]
  },
  {
   "cell_type": "code",
   "execution_count": 37,
   "metadata": {},
   "outputs": [
    {
     "data": {
      "text/plain": [
       "0    221900.0\n",
       "1    538000.0\n",
       "2    180000.0\n",
       "3    604000.0\n",
       "4    510000.0\n",
       "Name: Sale_Price, dtype: float64"
      ]
     },
     "execution_count": 37,
     "metadata": {},
     "output_type": "execute_result"
    }
   ],
   "source": [
    "Y.head(5)"
   ]
  },
  {
   "cell_type": "code",
   "execution_count": 9,
   "metadata": {},
   "outputs": [],
   "source": [
    "from sklearn.model_selection import train_test_split\n"
   ]
  },
  {
   "cell_type": "code",
   "execution_count": 10,
   "metadata": {},
   "outputs": [],
   "source": [
    "X_train, X_test, Y_train, Y_test = train_test_split(X, Y, test_size = 0.3)"
   ]
  },
  {
   "cell_type": "code",
   "execution_count": 11,
   "metadata": {},
   "outputs": [
    {
     "data": {
      "text/plain": [
       "(15126, 30)"
      ]
     },
     "execution_count": 11,
     "metadata": {},
     "output_type": "execute_result"
    }
   ],
   "source": [
    "X_train.shape"
   ]
  },
  {
   "cell_type": "code",
   "execution_count": 58,
   "metadata": {},
   "outputs": [
    {
     "data": {
      "text/plain": [
       "(6483, 30)"
      ]
     },
     "execution_count": 58,
     "metadata": {},
     "output_type": "execute_result"
    }
   ],
   "source": [
    "X_test.shape"
   ]
  },
  {
   "cell_type": "code",
   "execution_count": 43,
   "metadata": {},
   "outputs": [
    {
     "data": {
      "text/plain": [
       "(15126, 30)"
      ]
     },
     "execution_count": 43,
     "metadata": {},
     "output_type": "execute_result"
    }
   ],
   "source": [
    "Y_train.shape"
   ]
  },
  {
   "cell_type": "code",
   "execution_count": 44,
   "metadata": {},
   "outputs": [
    {
     "data": {
      "text/plain": [
       "(6483, 30)"
      ]
     },
     "execution_count": 44,
     "metadata": {},
     "output_type": "execute_result"
    }
   ],
   "source": [
    "Y_test.shape"
   ]
  },
  {
   "cell_type": "code",
   "execution_count": 50,
   "metadata": {},
   "outputs": [
    {
     "data": {
      "text/html": [
       "<div>\n",
       "<style scoped>\n",
       "    .dataframe tbody tr th:only-of-type {\n",
       "        vertical-align: middle;\n",
       "    }\n",
       "\n",
       "    .dataframe tbody tr th {\n",
       "        vertical-align: top;\n",
       "    }\n",
       "\n",
       "    .dataframe thead th {\n",
       "        text-align: right;\n",
       "    }\n",
       "</style>\n",
       "<table border=\"1\" class=\"dataframe\">\n",
       "  <thead>\n",
       "    <tr style=\"text-align: right;\">\n",
       "      <th></th>\n",
       "      <th>No of Bedrooms</th>\n",
       "      <th>No of Bathrooms</th>\n",
       "      <th>Flat Area (in Sqft)</th>\n",
       "      <th>Lot Area (in Sqft)</th>\n",
       "      <th>No of Floors</th>\n",
       "      <th>No of Times Visited</th>\n",
       "      <th>Overall Grade</th>\n",
       "      <th>Area of the House from Basement (in Sqft)</th>\n",
       "      <th>Basement Area (in Sqft)</th>\n",
       "      <th>Age of House (in Years)</th>\n",
       "      <th>...</th>\n",
       "      <th>Waterfront_View_Yes</th>\n",
       "      <th>Zipcode_Group_Zipcode_Group_1</th>\n",
       "      <th>Zipcode_Group_Zipcode_Group_2</th>\n",
       "      <th>Zipcode_Group_Zipcode_Group_3</th>\n",
       "      <th>Zipcode_Group_Zipcode_Group_4</th>\n",
       "      <th>Zipcode_Group_Zipcode_Group_5</th>\n",
       "      <th>Zipcode_Group_Zipcode_Group_6</th>\n",
       "      <th>Zipcode_Group_Zipcode_Group_7</th>\n",
       "      <th>Zipcode_Group_Zipcode_Group_8</th>\n",
       "      <th>Zipcode_Group_Zipcode_Group_9</th>\n",
       "    </tr>\n",
       "  </thead>\n",
       "  <tbody>\n",
       "    <tr>\n",
       "      <th>count</th>\n",
       "      <td>21609.000000</td>\n",
       "      <td>21609.000000</td>\n",
       "      <td>21609.000000</td>\n",
       "      <td>2.160900e+04</td>\n",
       "      <td>21609.000000</td>\n",
       "      <td>21609.000000</td>\n",
       "      <td>21609.000000</td>\n",
       "      <td>21609.000000</td>\n",
       "      <td>21609.000000</td>\n",
       "      <td>21609.000000</td>\n",
       "      <td>...</td>\n",
       "      <td>21609.000000</td>\n",
       "      <td>21609.000000</td>\n",
       "      <td>21609.000000</td>\n",
       "      <td>21609.000000</td>\n",
       "      <td>21609.000000</td>\n",
       "      <td>21609.000000</td>\n",
       "      <td>21609.000000</td>\n",
       "      <td>21609.000000</td>\n",
       "      <td>21609.000000</td>\n",
       "      <td>21609.000000</td>\n",
       "    </tr>\n",
       "    <tr>\n",
       "      <th>mean</th>\n",
       "      <td>3.370771</td>\n",
       "      <td>2.114709</td>\n",
       "      <td>2079.872553</td>\n",
       "      <td>1.510641e+04</td>\n",
       "      <td>1.494215</td>\n",
       "      <td>0.234347</td>\n",
       "      <td>7.623490</td>\n",
       "      <td>1788.319589</td>\n",
       "      <td>291.513490</td>\n",
       "      <td>46.999722</td>\n",
       "      <td>...</td>\n",
       "      <td>0.007543</td>\n",
       "      <td>0.109399</td>\n",
       "      <td>0.188625</td>\n",
       "      <td>0.149706</td>\n",
       "      <td>0.186681</td>\n",
       "      <td>0.043824</td>\n",
       "      <td>0.076450</td>\n",
       "      <td>0.012449</td>\n",
       "      <td>0.027720</td>\n",
       "      <td>0.002314</td>\n",
       "    </tr>\n",
       "    <tr>\n",
       "      <th>std</th>\n",
       "      <td>0.929916</td>\n",
       "      <td>0.770097</td>\n",
       "      <td>918.347816</td>\n",
       "      <td>4.142353e+04</td>\n",
       "      <td>0.539909</td>\n",
       "      <td>0.766382</td>\n",
       "      <td>1.105519</td>\n",
       "      <td>827.977604</td>\n",
       "      <td>442.570991</td>\n",
       "      <td>29.373317</td>\n",
       "      <td>...</td>\n",
       "      <td>0.086525</td>\n",
       "      <td>0.312146</td>\n",
       "      <td>0.391220</td>\n",
       "      <td>0.356791</td>\n",
       "      <td>0.389665</td>\n",
       "      <td>0.204709</td>\n",
       "      <td>0.265722</td>\n",
       "      <td>0.110879</td>\n",
       "      <td>0.164173</td>\n",
       "      <td>0.048048</td>\n",
       "    </tr>\n",
       "    <tr>\n",
       "      <th>min</th>\n",
       "      <td>0.000000</td>\n",
       "      <td>0.000000</td>\n",
       "      <td>290.000000</td>\n",
       "      <td>5.200000e+02</td>\n",
       "      <td>1.000000</td>\n",
       "      <td>0.000000</td>\n",
       "      <td>1.000000</td>\n",
       "      <td>290.000000</td>\n",
       "      <td>0.000000</td>\n",
       "      <td>3.000000</td>\n",
       "      <td>...</td>\n",
       "      <td>0.000000</td>\n",
       "      <td>0.000000</td>\n",
       "      <td>0.000000</td>\n",
       "      <td>0.000000</td>\n",
       "      <td>0.000000</td>\n",
       "      <td>0.000000</td>\n",
       "      <td>0.000000</td>\n",
       "      <td>0.000000</td>\n",
       "      <td>0.000000</td>\n",
       "      <td>0.000000</td>\n",
       "    </tr>\n",
       "    <tr>\n",
       "      <th>25%</th>\n",
       "      <td>3.000000</td>\n",
       "      <td>1.750000</td>\n",
       "      <td>1430.000000</td>\n",
       "      <td>5.040000e+03</td>\n",
       "      <td>1.000000</td>\n",
       "      <td>0.000000</td>\n",
       "      <td>7.000000</td>\n",
       "      <td>1190.000000</td>\n",
       "      <td>0.000000</td>\n",
       "      <td>21.000000</td>\n",
       "      <td>...</td>\n",
       "      <td>0.000000</td>\n",
       "      <td>0.000000</td>\n",
       "      <td>0.000000</td>\n",
       "      <td>0.000000</td>\n",
       "      <td>0.000000</td>\n",
       "      <td>0.000000</td>\n",
       "      <td>0.000000</td>\n",
       "      <td>0.000000</td>\n",
       "      <td>0.000000</td>\n",
       "      <td>0.000000</td>\n",
       "    </tr>\n",
       "    <tr>\n",
       "      <th>50%</th>\n",
       "      <td>3.000000</td>\n",
       "      <td>2.250000</td>\n",
       "      <td>1910.000000</td>\n",
       "      <td>7.619000e+03</td>\n",
       "      <td>1.500000</td>\n",
       "      <td>0.000000</td>\n",
       "      <td>7.000000</td>\n",
       "      <td>1560.000000</td>\n",
       "      <td>0.000000</td>\n",
       "      <td>43.000000</td>\n",
       "      <td>...</td>\n",
       "      <td>0.000000</td>\n",
       "      <td>0.000000</td>\n",
       "      <td>0.000000</td>\n",
       "      <td>0.000000</td>\n",
       "      <td>0.000000</td>\n",
       "      <td>0.000000</td>\n",
       "      <td>0.000000</td>\n",
       "      <td>0.000000</td>\n",
       "      <td>0.000000</td>\n",
       "      <td>0.000000</td>\n",
       "    </tr>\n",
       "    <tr>\n",
       "      <th>75%</th>\n",
       "      <td>4.000000</td>\n",
       "      <td>2.500000</td>\n",
       "      <td>2550.000000</td>\n",
       "      <td>1.068700e+04</td>\n",
       "      <td>2.000000</td>\n",
       "      <td>0.000000</td>\n",
       "      <td>8.000000</td>\n",
       "      <td>2210.000000</td>\n",
       "      <td>560.000000</td>\n",
       "      <td>67.000000</td>\n",
       "      <td>...</td>\n",
       "      <td>0.000000</td>\n",
       "      <td>0.000000</td>\n",
       "      <td>0.000000</td>\n",
       "      <td>0.000000</td>\n",
       "      <td>0.000000</td>\n",
       "      <td>0.000000</td>\n",
       "      <td>0.000000</td>\n",
       "      <td>0.000000</td>\n",
       "      <td>0.000000</td>\n",
       "      <td>0.000000</td>\n",
       "    </tr>\n",
       "    <tr>\n",
       "      <th>max</th>\n",
       "      <td>33.000000</td>\n",
       "      <td>8.000000</td>\n",
       "      <td>13540.000000</td>\n",
       "      <td>1.651359e+06</td>\n",
       "      <td>3.500000</td>\n",
       "      <td>4.000000</td>\n",
       "      <td>10.000000</td>\n",
       "      <td>9410.000000</td>\n",
       "      <td>4820.000000</td>\n",
       "      <td>118.000000</td>\n",
       "      <td>...</td>\n",
       "      <td>1.000000</td>\n",
       "      <td>1.000000</td>\n",
       "      <td>1.000000</td>\n",
       "      <td>1.000000</td>\n",
       "      <td>1.000000</td>\n",
       "      <td>1.000000</td>\n",
       "      <td>1.000000</td>\n",
       "      <td>1.000000</td>\n",
       "      <td>1.000000</td>\n",
       "      <td>1.000000</td>\n",
       "    </tr>\n",
       "  </tbody>\n",
       "</table>\n",
       "<p>8 rows × 30 columns</p>\n",
       "</div>"
      ],
      "text/plain": [
       "       No of Bedrooms  No of Bathrooms  Flat Area (in Sqft)  \\\n",
       "count    21609.000000     21609.000000         21609.000000   \n",
       "mean         3.370771         2.114709          2079.872553   \n",
       "std          0.929916         0.770097           918.347816   \n",
       "min          0.000000         0.000000           290.000000   \n",
       "25%          3.000000         1.750000          1430.000000   \n",
       "50%          3.000000         2.250000          1910.000000   \n",
       "75%          4.000000         2.500000          2550.000000   \n",
       "max         33.000000         8.000000         13540.000000   \n",
       "\n",
       "       Lot Area (in Sqft)  No of Floors  No of Times Visited  Overall Grade  \\\n",
       "count        2.160900e+04  21609.000000         21609.000000   21609.000000   \n",
       "mean         1.510641e+04      1.494215             0.234347       7.623490   \n",
       "std          4.142353e+04      0.539909             0.766382       1.105519   \n",
       "min          5.200000e+02      1.000000             0.000000       1.000000   \n",
       "25%          5.040000e+03      1.000000             0.000000       7.000000   \n",
       "50%          7.619000e+03      1.500000             0.000000       7.000000   \n",
       "75%          1.068700e+04      2.000000             0.000000       8.000000   \n",
       "max          1.651359e+06      3.500000             4.000000      10.000000   \n",
       "\n",
       "       Area of the House from Basement (in Sqft)  Basement Area (in Sqft)  \\\n",
       "count                               21609.000000             21609.000000   \n",
       "mean                                 1788.319589               291.513490   \n",
       "std                                   827.977604               442.570991   \n",
       "min                                   290.000000                 0.000000   \n",
       "25%                                  1190.000000                 0.000000   \n",
       "50%                                  1560.000000                 0.000000   \n",
       "75%                                  2210.000000               560.000000   \n",
       "max                                  9410.000000              4820.000000   \n",
       "\n",
       "       Age of House (in Years)  ...  Waterfront_View_Yes  \\\n",
       "count             21609.000000  ...         21609.000000   \n",
       "mean                 46.999722  ...             0.007543   \n",
       "std                  29.373317  ...             0.086525   \n",
       "min                   3.000000  ...             0.000000   \n",
       "25%                  21.000000  ...             0.000000   \n",
       "50%                  43.000000  ...             0.000000   \n",
       "75%                  67.000000  ...             0.000000   \n",
       "max                 118.000000  ...             1.000000   \n",
       "\n",
       "       Zipcode_Group_Zipcode_Group_1  Zipcode_Group_Zipcode_Group_2  \\\n",
       "count                   21609.000000                   21609.000000   \n",
       "mean                        0.109399                       0.188625   \n",
       "std                         0.312146                       0.391220   \n",
       "min                         0.000000                       0.000000   \n",
       "25%                         0.000000                       0.000000   \n",
       "50%                         0.000000                       0.000000   \n",
       "75%                         0.000000                       0.000000   \n",
       "max                         1.000000                       1.000000   \n",
       "\n",
       "       Zipcode_Group_Zipcode_Group_3  Zipcode_Group_Zipcode_Group_4  \\\n",
       "count                   21609.000000                   21609.000000   \n",
       "mean                        0.149706                       0.186681   \n",
       "std                         0.356791                       0.389665   \n",
       "min                         0.000000                       0.000000   \n",
       "25%                         0.000000                       0.000000   \n",
       "50%                         0.000000                       0.000000   \n",
       "75%                         0.000000                       0.000000   \n",
       "max                         1.000000                       1.000000   \n",
       "\n",
       "       Zipcode_Group_Zipcode_Group_5  Zipcode_Group_Zipcode_Group_6  \\\n",
       "count                   21609.000000                   21609.000000   \n",
       "mean                        0.043824                       0.076450   \n",
       "std                         0.204709                       0.265722   \n",
       "min                         0.000000                       0.000000   \n",
       "25%                         0.000000                       0.000000   \n",
       "50%                         0.000000                       0.000000   \n",
       "75%                         0.000000                       0.000000   \n",
       "max                         1.000000                       1.000000   \n",
       "\n",
       "       Zipcode_Group_Zipcode_Group_7  Zipcode_Group_Zipcode_Group_8  \\\n",
       "count                   21609.000000                   21609.000000   \n",
       "mean                        0.012449                       0.027720   \n",
       "std                         0.110879                       0.164173   \n",
       "min                         0.000000                       0.000000   \n",
       "25%                         0.000000                       0.000000   \n",
       "50%                         0.000000                       0.000000   \n",
       "75%                         0.000000                       0.000000   \n",
       "max                         1.000000                       1.000000   \n",
       "\n",
       "       Zipcode_Group_Zipcode_Group_9  \n",
       "count                   21609.000000  \n",
       "mean                        0.002314  \n",
       "std                         0.048048  \n",
       "min                         0.000000  \n",
       "25%                         0.000000  \n",
       "50%                         0.000000  \n",
       "75%                         0.000000  \n",
       "max                         1.000000  \n",
       "\n",
       "[8 rows x 30 columns]"
      ]
     },
     "execution_count": 50,
     "metadata": {},
     "output_type": "execute_result"
    }
   ],
   "source": [
    "X.describe()"
   ]
  },
  {
   "cell_type": "markdown",
   "metadata": {},
   "source": [
    "# Feature Scaling"
   ]
  },
  {
   "cell_type": "code",
   "execution_count": 51,
   "metadata": {},
   "outputs": [],
   "source": [
    "from sklearn import preprocessing\n",
    "scale = preprocessing.StandardScaler()"
   ]
  },
  {
   "cell_type": "code",
   "execution_count": 59,
   "metadata": {},
   "outputs": [],
   "source": [
    "X_train = scale.fit_transform(X_train)"
   ]
  },
  {
   "cell_type": "markdown",
   "metadata": {},
   "source": [
    " X_train"
   ]
  },
  {
   "cell_type": "code",
   "execution_count": 61,
   "metadata": {},
   "outputs": [],
   "source": [
    "X_test = scale.fit_transform(X_test)"
   ]
  },
  {
   "cell_type": "code",
   "execution_count": 62,
   "metadata": {},
   "outputs": [
    {
     "data": {
      "text/plain": [
       "array([[-2.56138806, -1.42323019, -1.46810553, ..., -0.10818558,\n",
       "        -0.16360292, -0.04815713],\n",
       "       [-0.39073724,  0.51253008, -0.14186258, ..., -0.10818558,\n",
       "        -0.16360292, -0.04815713],\n",
       "       [ 0.69458817, -1.42323019, -0.87020912, ..., -0.10818558,\n",
       "        -0.16360292, -0.04815713],\n",
       "       ...,\n",
       "       [-0.39073724, -0.45535006, -1.09849684, ..., -0.10818558,\n",
       "        -0.16360292, -0.04815713],\n",
       "       [ 0.69458817,  1.1577835 ,  0.74954661, ..., -0.10818558,\n",
       "        -0.16360292, -0.04815713],\n",
       "       [-0.39073724,  0.18990337, -0.13099174, ..., -0.10818558,\n",
       "        -0.16360292, -0.04815713]])"
      ]
     },
     "execution_count": 62,
     "metadata": {},
     "output_type": "execute_result"
    }
   ],
   "source": [
    "X_test"
   ]
  }
 ],
 "metadata": {
  "kernelspec": {
   "display_name": "Python 3 (ipykernel)",
   "language": "python",
   "name": "python3"
  },
  "language_info": {
   "codemirror_mode": {
    "name": "ipython",
    "version": 3
   },
   "file_extension": ".py",
   "mimetype": "text/x-python",
   "name": "python",
   "nbconvert_exporter": "python",
   "pygments_lexer": "ipython3",
   "version": "3.11.7"
  }
 },
 "nbformat": 4,
 "nbformat_minor": 4
}
